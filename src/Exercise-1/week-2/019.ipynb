{
 "cells": [
  {
   "cell_type": "markdown",
   "metadata": {},
   "source": [
    "#Area of a Triangle"
   ]
  },
  {
   "cell_type": "markdown",
   "metadata": {},
   "source": [
    "The area of a triangle can be computed using the following formula, where b is the\n",
    "length of the base of the triangle, and h is its height:\n",
    "---\n",
    "$$area = b×h / \n",
    "2$$\n",
    "---\n",
    "Write a program that allows the user to enter values for b and h. The program should\n",
    "then compute and display the area of a triangle with base length b and height h."
   ]
  },
  {
   "cell_type": "code",
   "execution_count": 1,
   "metadata": {},
   "outputs": [
    {
     "name": "stdout",
     "output_type": "stream",
     "text": [
      "Enter the length of the base\n",
      "Enter the height of the triangle:\n",
      "The area of your triangle is\n",
      "2.0\n"
     ]
    }
   ],
   "source": [
    "import math\n",
    "print('Enter the length of the base')\n",
    "b = int(input())\n",
    "print('Enter the height of the triangle:')\n",
    "h = int(input())\n",
    "print('The area of your triangle is')\n",
    "print(b*h/2)"
   ]
  }
 ],
 "metadata": {
  "kernelspec": {
   "display_name": "Pywb",
   "language": "python",
   "name": "python3"
  },
  "language_info": {
   "codemirror_mode": {
    "name": "ipython",
    "version": 3
   },
   "file_extension": ".py",
   "mimetype": "text/x-python",
   "name": "python",
   "nbconvert_exporter": "python",
   "pygments_lexer": "ipython3",
   "version": "3.9.18"
  }
 },
 "nbformat": 4,
 "nbformat_minor": 2
}
