{
 "cells": [
  {
   "cell_type": "code",
   "execution_count": null,
   "metadata": {},
   "outputs": [],
   "source": [
    "# Area of a Regular Polygon"
   ]
  },
  {
   "cell_type": "markdown",
   "metadata": {},
   "source": [
    "A polygon is regular if its sides are all the same length and the angles between all of\n",
    "the adjacent sides are equal. The area of a regular polygon can be computed using\n",
    "the following formula, where s is the length of a side and n is the number of sides:\n",
    "\n",
    "---\n",
    "$$\n",
    "area = \\frac{n * S^2} {4 * tan(π/n)}\n",
    "$$\n",
    "---\n",
    "Write a program that reads s and n from the user and then displays the area of a\n",
    "regular polygon constructed from these values."
   ]
  },
  {
   "cell_type": "code",
   "execution_count": 1,
   "metadata": {},
   "outputs": [
    {
     "name": "stdout",
     "output_type": "stream",
     "text": [
      "Enter the length of a side: \n",
      "Enter the number of sides: \n",
      "The area of your polygon is\n",
      "143.99999999999997\n"
     ]
    }
   ],
   "source": [
    "import math\n",
    "print('Enter the length of a side: ')\n",
    "s = int(input())\n",
    "print('Enter the number of sides: ')\n",
    "n = int(input())\n",
    "print('The area of your polygon is')\n",
    "print(n*s*s/4*math.tan(math.pi/n))"
   ]
  }
 ],
 "metadata": {
  "kernelspec": {
   "display_name": "Pywb",
   "language": "python",
   "name": "python3"
  },
  "language_info": {
   "codemirror_mode": {
    "name": "ipython",
    "version": 3
   },
   "file_extension": ".py",
   "mimetype": "text/x-python",
   "name": "python",
   "nbconvert_exporter": "python",
   "pygments_lexer": "ipython3",
   "version": "3.9.18"
  }
 },
 "nbformat": 4,
 "nbformat_minor": 2
}
