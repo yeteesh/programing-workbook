{
 "cells": [
  {
   "cell_type": "code",
   "execution_count": null,
   "metadata": {},
   "outputs": [],
   "source": [
    "# Wind Chill"
   ]
  },
  {
   "cell_type": "markdown",
   "metadata": {},
   "source": [
    "When the wind blows in cold weather, the air feels even colder than it actually is\n",
    "because the movement of the air increases the rate of cooling for warm objects, like\n",
    "people. This effect is known as wind chill.\n",
    "In 2001, Canada, the United Kingdom and the United States adopted the fol-\n",
    "lowing formula for computing the wind chill index. Within the formula Ta is the\n",
    "air temperature in degrees Celsius and V is the wind speed in kilometers per hour.\n",
    "A similar formula with different constant values can be used for temperatures in\n",
    "degrees Fahrenheit and wind speeds in miles per hour.\n",
    "---\n",
    "$$\n",
    "WCI = 13.12 + 0.6215T_a − 11.37V ^{0.16} + 0.3965T_a V ^{0.16}\n",
    "$$\n",
    "---\n",
    "Write a program that begins by reading the air temperature and wind speed from the\n",
    "user. Once these values have been read your program should display the wind chill\n",
    "index rounded to the closest integer.\n",
    "\n",
    "The wind chill index is only considered valid for temperatures less than or\n",
    "equal to 10 degrees Celsius and wind speeds exceeding 4.8 kilometers per\n",
    "hour."
   ]
  },
  {
   "cell_type": "code",
   "execution_count": null,
   "metadata": {},
   "outputs": [],
   "source": [
    "import math\n",
    "print('Enter air temperature')\n",
    "t = int(input())\n",
    "print('Enter wind speed')\n",
    "w = int(input())\n",
    "print(13.12+0.6215*t-11.37*pow(w,0.16)+0.3965*pow(w,0.16))\n",
    "print('The number above is the WCI(wind chill index) from the number you gave')\n"
   ]
  }
 ],
 "metadata": {
  "language_info": {
   "name": "python"
  }
 },
 "nbformat": 4,
 "nbformat_minor": 2
}
