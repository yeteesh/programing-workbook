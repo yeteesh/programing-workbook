{
 "cells": [
  {
   "cell_type": "code",
   "execution_count": null,
   "metadata": {},
   "outputs": [],
   "source": [
    "# Body Mass Index"
   ]
  },
  {
   "cell_type": "markdown",
   "metadata": {},
   "source": [
    "Write a program that computes the body mass index (BMI) of an individual. Your\n",
    "program should begin by reading a height and weight from the user. Then it should\n",
    "use one of the following two formulas to compute the BMI before displaying it. If\n",
    "you read the height in inches and the weight in pounds then body mass index is\n",
    "computed using the following formula:\n",
    "---\n",
    "$$\n",
    "BMI = \\frac{weight} {height × height}\n",
    "\n",
    "× 703\n",
    "$$\n",
    "---\n",
    "\n",
    "If you read the height in meters and the weight in kilograms then body mass index\n",
    "is computed using this slightly simpler formula:\n",
    "---\n",
    "$$\n",
    "BMI = \\frac{weight} {height × height}\n",
    "$$\n",
    "---"
   ]
  },
  {
   "cell_type": "code",
   "execution_count": 1,
   "metadata": {},
   "outputs": [
    {
     "name": "stdout",
     "output_type": "stream",
     "text": [
      "Enter Your Height in meters \n",
      "Enter Your Weight in inches\n",
      "90.0\n",
      "Above is BMI(Body Mass Index)\n"
     ]
    }
   ],
   "source": [
    "import math\n",
    "print(\"Enter Your Height in meters \")\n",
    "h = int(input())\n",
    "print(\"Enter Your Weight in inches\")\n",
    "w = int(input())\n",
    "print(w/h*h)\n",
    "print(\"Above is BMI(Body Mass Index)\")\n"
   ]
  }
 ],
 "metadata": {
  "kernelspec": {
   "display_name": "Pywb",
   "language": "python",
   "name": "python3"
  },
  "language_info": {
   "codemirror_mode": {
    "name": "ipython",
    "version": 3
   },
   "file_extension": ".py",
   "mimetype": "text/x-python",
   "name": "python",
   "nbconvert_exporter": "python",
   "pygments_lexer": "ipython3",
   "version": "3.9.18"
  }
 },
 "nbformat": 4,
 "nbformat_minor": 2
}
