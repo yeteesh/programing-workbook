{
 "cells": [
  {
   "cell_type": "code",
   "execution_count": null,
   "metadata": {},
   "outputs": [],
   "source": [
    "# When is Easter?"
   ]
  },
  {
   "cell_type": "markdown",
   "metadata": {},
   "source": [
    "Easter is celebrated on the Sunday immediately after the first full moon following the\n",
    "spring equinox. Because its date includes a lunar component, Easter does not have\n",
    "a fixed date in the Gregorian calendar. Instead, it can occur on any date between\n",
    "March 22 and April 25. The month and day for Easter can be computed for a given\n",
    "year using the Anonymous Gregorian Computus algorithm, which is shown below.\n",
    "---\n",
    "Set a equal to the remainder when year is divided by 19\n",
    "Set b equal to the floor of year divided by 100\n",
    "Set c equal to the remainder when year is divided by 100\n",
    "Set d equal to the floor of b divided by 4\n",
    "Set e equal to the remainder when b is divided by 4\n",
    "\n",
    "Set f equal to the floor of $$ \\frac{b + 8 }{25}$$\n",
    "\n",
    "Set g equal to the floor of $$ \\frac{b - f + 1}{3}$$\n",
    "\n",
    "Set h equal to the remainder when 19a + b − d − g + 15 is divided by 30\n",
    "Set i equal to the floor of c divided by 4\n",
    "Set k equal to the remainder when c is divided by 4\n",
    "Set l equal to the remainder when 32 + 2e + 2i − h − k is divided by 7\n",
    "\n",
    "Set m equal to the floor of\n",
    "\n",
    "$$ \\frac{a + 11h + 22l} {451} $$\n",
    "Set month equal to the floor of $$\\frac{h+l - 7m + 114} {31}$$\n",
    "\n",
    "Set day equal to one plus the remainder when h + l − 7m + 114 is divided\n",
    "by 31\n",
    "---\n",
    "Write a program that implements the Anonymous Gregorian Computus algorithm\n",
    "to compute the date of Easter. Your program should read the year from the user and\n",
    "then display a appropriate message that includes the date of Easter in that year."
   ]
  },
  {
   "cell_type": "code",
   "execution_count": null,
   "metadata": {},
   "outputs": [],
   "source": [
    "import time\n",
    "import math\n",
    "print(\"Enter the year\")\n",
    "y = int(input())\n"
   ]
  }
 ],
 "metadata": {
  "language_info": {
   "name": "python"
  }
 },
 "nbformat": 4,
 "nbformat_minor": 2
}
