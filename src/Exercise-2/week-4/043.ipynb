{
 "cells": [
  {
   "cell_type": "code",
   "execution_count": null,
   "metadata": {},
   "outputs": [],
   "source": [
    "# Date to Holiday Name\n"
   ]
  },
  {
   "cell_type": "markdown",
   "metadata": {},
   "source": [
    "Canada has three national holidays which fall on the same dates each year.\n",
    "\n",
    "|Holiday|Date|\n",
    "| ---|---|\n",
    "|New Year’s Day|January 1|\n",
    "|Canada Day|July 1|\n",
    "|Christmas Day|December 25|\n",
    "\n",
    "Write a program that reads a month and day from the user. If the month and day\n",
    "match one of the holidays listed previously then your program should display the\n",
    "holiday’s name. Otherwise your program should indicate that the entered month and\n",
    "day do not correspond to a fixed-date holiday.\n",
    "\n",
    "\n",
    "Canada has two additional national holidays, Good Friday and Labour Day,\n",
    "whose dates vary from year to year. There are also numerous provincial and\n",
    "territorial holidays, some of which have fixed dates, and some of which have\n",
    "variable dates. We will not consider any of these additional holidays in this\n",
    "exercise."
   ]
  },
  {
   "cell_type": "code",
   "execution_count": null,
   "metadata": {},
   "outputs": [],
   "source": []
  },
  {
   "cell_type": "code",
   "execution_count": null,
   "metadata": {},
   "outputs": [],
   "source": []
  }
 ],
 "metadata": {
  "language_info": {
   "name": "python"
  }
 },
 "nbformat": 4,
 "nbformat_minor": 2
}
