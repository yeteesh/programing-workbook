{
 "cells": [
  {
   "cell_type": "code",
   "execution_count": null,
   "metadata": {},
   "outputs": [],
   "source": [
    "# Date to Holiday Name\n"
   ]
  },
  {
   "cell_type": "markdown",
   "metadata": {},
   "source": [
    "Canada has three national holidays which fall on the same dates each year.\n",
    "\n",
    "|Holiday|Date|\n",
    "| ---|---|\n",
    "|New Year’s Day|January 1|\n",
    "|Canada Day|July 1|\n",
    "|Christmas Day|December 25|\n",
    "\n",
    "Write a program that reads a month and day from the user. If the month and day\n",
    "match one of the holidays listed previously then your program should display the\n",
    "holiday’s name. Otherwise your program should indicate that the entered month and\n",
    "day do not correspond to a fixed-date holiday.\n",
    "\n",
    "\n",
    "Canada has two additional national holidays, Good Friday and Labour Day,\n",
    "whose dates vary from year to year. There are also numerous provincial and\n",
    "territorial holidays, some of which have fixed dates, and some of which have\n",
    "variable dates. We will not consider any of these additional holidays in this\n",
    "exercise."
   ]
  },
  {
   "cell_type": "code",
   "execution_count": 2,
   "metadata": {},
   "outputs": [
    {
     "name": "stderr",
     "output_type": "stream",
     "text": [
      "<>:5: SyntaxWarning: 'str' object is not callable; perhaps you missed a comma?\n",
      "<>:5: SyntaxWarning: 'str' object is not callable; perhaps you missed a comma?\n"
     ]
    },
    {
     "name": "stdout",
     "output_type": "stream",
     "text": [
      "Enter month:\n",
      "Enter day:\n"
     ]
    },
    {
     "name": "stderr",
     "output_type": "stream",
     "text": [
      "C:\\Users\\yetee\\AppData\\Local\\Temp\\ipykernel_23392\\3422653941.py:5: SyntaxWarning: 'str' object is not callable; perhaps you missed a comma?\n",
      "  newyearsday = str('January'(int(1)))\n",
      "C:\\Users\\yetee\\AppData\\Local\\Temp\\ipykernel_23392\\3422653941.py:5: SyntaxWarning: 'str' object is not callable; perhaps you missed a comma?\n",
      "  newyearsday = str('January'(int(1)))\n",
      "C:\\Users\\yetee\\AppData\\Local\\Temp\\ipykernel_23392\\3422653941.py:5: SyntaxWarning: 'str' object is not callable; perhaps you missed a comma?\n",
      "  newyearsday = str('January'(int(1)))\n",
      "C:\\Users\\yetee\\AppData\\Local\\Temp\\ipykernel_23392\\3422653941.py:5: SyntaxWarning: 'str' object is not callable; perhaps you missed a comma?\n",
      "  newyearsday = str('January'(int(1)))\n",
      "C:\\Users\\yetee\\AppData\\Local\\Temp\\ipykernel_23392\\3422653941.py:5: SyntaxWarning: 'str' object is not callable; perhaps you missed a comma?\n",
      "  newyearsday = str('January'(int(1)))\n"
     ]
    },
    {
     "ename": "TypeError",
     "evalue": "'str' object is not callable",
     "output_type": "error",
     "traceback": [
      "\u001b[1;31m---------------------------------------------------------------------------\u001b[0m",
      "\u001b[1;31mTypeError\u001b[0m                                 Traceback (most recent call last)",
      "Cell \u001b[1;32mIn[2], line 5\u001b[0m\n\u001b[0;32m      3\u001b[0m \u001b[38;5;28mprint\u001b[39m(\u001b[38;5;124m'\u001b[39m\u001b[38;5;124mEnter day:\u001b[39m\u001b[38;5;124m'\u001b[39m)\n\u001b[0;32m      4\u001b[0m d \u001b[38;5;241m=\u001b[39m \u001b[38;5;28mint\u001b[39m(\u001b[38;5;28minput\u001b[39m())\n\u001b[1;32m----> 5\u001b[0m newyearsday \u001b[38;5;241m=\u001b[39m \u001b[38;5;28mstr\u001b[39m(\u001b[38;5;124;43m'\u001b[39;49m\u001b[38;5;124;43mJanuary\u001b[39;49m\u001b[38;5;124;43m'\u001b[39;49m\u001b[43m(\u001b[49m\u001b[38;5;28;43mint\u001b[39;49m\u001b[43m(\u001b[49m\u001b[38;5;241;43m1\u001b[39;49m\u001b[43m)\u001b[49m\u001b[43m)\u001b[49m)\n",
      "\u001b[1;31mTypeError\u001b[0m: 'str' object is not callable"
     ]
    }
   ],
   "source": [
    "\n"
   ]
  },
  {
   "cell_type": "code",
   "execution_count": null,
   "metadata": {},
   "outputs": [],
   "source": []
  }
 ],
 "metadata": {
  "kernelspec": {
   "display_name": "Pywb",
   "language": "python",
   "name": "python3"
  },
  "language_info": {
   "codemirror_mode": {
    "name": "ipython",
    "version": 3
   },
   "file_extension": ".py",
   "mimetype": "text/x-python",
   "name": "python",
   "nbconvert_exporter": "python",
   "pygments_lexer": "ipython3",
   "version": "3.9.18"
  }
 },
 "nbformat": 4,
 "nbformat_minor": 2
}
