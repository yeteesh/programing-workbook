{
 "cells": [
  {
   "cell_type": "code",
   "execution_count": null,
   "metadata": {},
   "outputs": [],
   "source": [
    "# Season from Month and Day"
   ]
  },
  {
   "cell_type": "markdown",
   "metadata": {},
   "source": [
    "The year is divided into four seasons: spring, summer, fall (or autumn) and winter.\n",
    "While the exact dates that the seasons change vary a little bit from year to year because of the way that the calendar is constructed, we will use the following dates\n",
    "for this exercise:\n",
    "\n",
    "|Season|First Day|\n",
    "| ---| ---|\n",
    "|Spring|March 20|\n",
    "|Summer|June 21|\n",
    "|Fall|September 22|\n",
    "|Winter|December 21|\n",
    "\n",
    "Create a program that reads a month and day from the user. The user will\n",
    "enter the name of the month as a string, followed by the day within the month as an\n",
    "integer. Then your program should display the season associated with the date that\n",
    "was entered.\n",
    "\n",
    "\n"
   ]
  },
  {
   "cell_type": "code",
   "execution_count": 2,
   "metadata": {},
   "outputs": [
    {
     "name": "stdout",
     "output_type": "stream",
     "text": [
      "Enter month:\n",
      "Enter day:\n",
      "The season is spring\n"
     ]
    }
   ],
   "source": [
    "print('Enter month:')\n",
    "m = str(input())\n",
    "print('Enter day:')\n",
    "d = int(input())\n",
    "if m.lower() == \"january\" or  m == \"december\" or m == \"febuary\":\n",
    "    season = 'winter'\n",
    "elif m.lower() == \"october\" or m == \"september\" or m == \"november\":\n",
    "    season = 'fall'\n",
    "elif m.lower() == \"march\" or m == \"april\" or m == \"may\":\n",
    "    season = 'spring'\n",
    "elif m.lower() == \"june\" or m == \"july\" or m == \"august\":\n",
    "    season = 'summer'\n",
    "if m == \"march\":\n",
    "    if d < 20:\n",
    "        season = 'winter'\n",
    "if m == \"june\":\n",
    "    if d < 21:\n",
    "        season = 'spring'\n",
    "if m == \"winter\":\n",
    "    if d < 21:\n",
    "        season = 'fall'\n",
    "if m == \"fall\":\n",
    "    if d < 22:\n",
    "         season = 'summer'\n",
    "print(\"The season is\", season)"
   ]
  }
 ],
 "metadata": {
  "kernelspec": {
   "display_name": "Pywb",
   "language": "python",
   "name": "python3"
  },
  "language_info": {
   "codemirror_mode": {
    "name": "ipython",
    "version": 3
   },
   "file_extension": ".py",
   "mimetype": "text/x-python",
   "name": "python",
   "nbconvert_exporter": "python",
   "pygments_lexer": "ipython3",
   "version": "3.9.18"
  }
 },
 "nbformat": 4,
 "nbformat_minor": 2
}
