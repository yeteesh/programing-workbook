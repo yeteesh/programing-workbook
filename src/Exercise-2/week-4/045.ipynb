{
 "cells": [
  {
   "cell_type": "code",
   "execution_count": null,
   "metadata": {},
   "outputs": [],
   "source": [
    "# Season from Month and Day"
   ]
  },
  {
   "cell_type": "markdown",
   "metadata": {},
   "source": [
    "The year is divided into four seasons: spring, summer, fall (or autumn) and winter.\n",
    "While the exact dates that the seasons change vary a little bit from year to year because of the way that the calendar is constructed, we will use the following dates\n",
    "for this exercise:\n",
    "\n",
    "|Season|First Day|\n",
    "| ---| ---|\n",
    "|Spring|March 20|\n",
    "|Summer|June 21|\n",
    "|Fall|September 22|\n",
    "|Winter|December 21|\n",
    "\n",
    "Create a program that reads a month and day from the user. The user will\n",
    "enter the name of the month as a string, followed by the day within the month as an\n",
    "integer. Then your program should display the season associated with the date that\n",
    "was entered.\n",
    "\n",
    "\n"
   ]
  },
  {
   "cell_type": "code",
   "execution_count": null,
   "metadata": {},
   "outputs": [],
   "source": []
  }
 ],
 "metadata": {
  "language_info": {
   "name": "python"
  }
 },
 "nbformat": 4,
 "nbformat_minor": 2
}
