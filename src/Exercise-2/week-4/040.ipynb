{
 "cells": [
  {
   "cell_type": "code",
   "execution_count": null,
   "metadata": {},
   "outputs": [],
   "source": [
    "# Note to Frequency"
   ]
  },
  {
   "cell_type": "markdown",
   "metadata": {},
   "source": [
    "The following table lists an octave of music notes, beginning with middle C, along\n",
    "with their frequencies.\n",
    "\n",
    "|Note|Frequency (Hz)|\n",
    "| --- | --- |\n",
    "|C4|261.63|\n",
    "|D4|293.66|\n",
    "|E4|329.63|\n",
    "|F4|349.23|\n",
    "|G4|392.00|\n",
    "|A4|440.00|\n",
    "|B4|493.88|\n",
    "\n",
    "Begin by writing a program that reads the name of a note from the user and\n",
    "displays the note’s frequency. Your program should support all of the notes listed\n",
    "previously.\n",
    "Once you have your program working correctly for the notes listed previously\n",
    "you should add support for all of the notes from C0 to C8. While this could be\n",
    "done by adding many additional cases to your if statement, such a solution is\n",
    "cumbersome, inelegant and unacceptable for the purposes of this exercise. Instead,\n",
    "you should exploit the relationship between notes in adjacent octaves. In partic-\n",
    "ular, the frequency of any note in octave n is half the frequency of the corre-\n",
    "sponding note in octave n + 1. By using this relationship, you should be able to\n",
    "add support for the additional notes without adding additional cases to your if\n",
    "statement.\n",
    "\n",
    "Hint: You will want to access the characters in the note entered by the user\n",
    "individually when completing this exercise. Begin by separating the letter from\n",
    "the octave. Then compute the frequency for that letter in the fourth octave using\n",
    "the data in the table above. Once you have this frequency you should divide it\n",
    "by 24−x , where x is the octave number entered by the user. This will halve or\n",
    "double the frequency the correct number of times."
   ]
  },
  {
   "cell_type": "code",
   "execution_count": null,
   "metadata": {},
   "outputs": [],
   "source": []
  }
 ],
 "metadata": {
  "language_info": {
   "name": "python"
  }
 },
 "nbformat": 4,
 "nbformat_minor": 2
}
