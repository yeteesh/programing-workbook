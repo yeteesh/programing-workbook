{
 "cells": [
  {
   "cell_type": "code",
   "execution_count": null,
   "metadata": {},
   "outputs": [],
   "source": [
    "# Birth Date to Astrological Sign"
   ]
  },
  {
   "cell_type": "markdown",
   "metadata": {},
   "source": [
    "The horoscopes commonly reported in newspapers use the position of the sun at the\n",
    "time of one’s birth to try and predict the future. This system of astrology divides the\n",
    "year into twelve zodiac signs, as outline in the table below:\n",
    "\n",
    "|Zodiac Sign|Date Range|\n",
    "| ---| ----|\n",
    "|Capricorn|December 22 to January 19|\n",
    "|Aquarius|January 20 to February 18|\n",
    "|Pisces|February 19 to March 20|\n",
    "|Aries|March 21 to April 19|\n",
    "|Taurus|April 20 to May 20|\n",
    "|Gemini|May 21 to June 20|\n",
    "|Cancer|June 21 to July 22|\n",
    "|Leo|July 23 to August 22|\n",
    "|Virgo|August 23 to September 22|\n",
    "|Libra|September 23 to October 22|\n",
    "|Scorpio|October 23 to November 21|\n",
    "|Sagittarius|November 22 to December 21|\n",
    "\n",
    "\n",
    "Write a program that asks the user to enter his or her month and day of birth. Then\n",
    "your program should report the user’s zodiac sign as part of an appropriate output\n",
    "message."
   ]
  },
  {
   "cell_type": "code",
   "execution_count": null,
   "metadata": {},
   "outputs": [],
   "source": []
  }
 ],
 "metadata": {
  "language_info": {
   "name": "python"
  }
 },
 "nbformat": 4,
 "nbformat_minor": 2
}
