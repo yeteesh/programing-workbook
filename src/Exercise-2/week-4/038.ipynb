{
 "cells": [
  {
   "cell_type": "code",
   "execution_count": null,
   "metadata": {},
   "outputs": [],
   "source": [
    "#Sound Levels"
   ]
  },
  {
   "cell_type": "code",
   "execution_count": null,
   "metadata": {},
   "outputs": [],
   "source": [
    "\n",
    "The following table lists the sound level in decibels for several common noises."
   ]
  },
  {
   "cell_type": "markdown",
   "metadata": {},
   "source": [
    "|Noise|Decibel Level|\n",
    "| --- | --- |\n",
    "|Jackhammer|130 dB|\n",
    "|Gas Lawnmower|106 dB|\n",
    "|Alarm Clock|70 dB|\n",
    "|Quiet Room|40 dB|\n",
    "\n",
    "\n",
    "\n",
    "Write a program that reads a sound level in decibels from the user. If the user\n",
    "enters a decibel level that matches one of the noises in the table then your program\n",
    "should display a message containing only that noise. If the user enters a number\n",
    "of decibels between the noises listed then your program should display a message\n",
    "indicating which noises the value is between. Ensure that your program also generates\n",
    "reasonable output for a value smaller than the quietest noise in the table, and for a\n",
    "value larger than the loudest noise in the table."
   ]
  },
  {
   "cell_type": "code",
   "execution_count": 1,
   "metadata": {},
   "outputs": [
    {
     "name": "stdout",
     "output_type": "stream",
     "text": [
      "Enter a Decibel level:\n",
      "Your room is as loud as a jackhammer\n"
     ]
    }
   ],
   "source": [
    "print('Enter a Decibel level:')\n",
    "d = int(input())\n",
    "Jackhammer = 130\n",
    "GasLawnmower = 106\n",
    "AlarmClock = 70\n",
    "QuietRoom = 40\n",
    "if d == Jackhammer:\n",
    "    print('Your room is as loud as a jackhammer')\n",
    "if d == GasLawnmower:\n",
    "    print('Your room is as loud as a Gas Lawnmover')\n",
    "if d == AlarmClock:\n",
    "    print('Your room is as louad as a Alarm Clock')\n",
    "if d == QuietRoom:\n",
    "    print('Your room is as loud as a Quiet room')"
   ]
  }
 ],
 "metadata": {
  "kernelspec": {
   "display_name": "Pywb",
   "language": "python",
   "name": "python3"
  },
  "language_info": {
   "codemirror_mode": {
    "name": "ipython",
    "version": 3
   },
   "file_extension": ".py",
   "mimetype": "text/x-python",
   "name": "python",
   "nbconvert_exporter": "python",
   "pygments_lexer": "ipython3",
   "version": "3.9.18"
  }
 },
 "nbformat": 4,
 "nbformat_minor": 2
}
