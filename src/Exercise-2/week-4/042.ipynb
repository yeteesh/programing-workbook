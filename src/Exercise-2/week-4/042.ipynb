{
 "cells": [
  {
   "cell_type": "code",
   "execution_count": null,
   "metadata": {},
   "outputs": [],
   "source": [
    "# Faces on Money"
   ]
  },
  {
   "cell_type": "markdown",
   "metadata": {},
   "source": [
    "It is common for images of a country’s previous leaders, or other individuals of his-\n",
    "torical significance, to appear on its money. The individuals that appear on banknotes\n",
    "in the United States are listed in below.\n",
    "\n",
    "|Individual|Amount|\n",
    "|---| ---|\n",
    "|George Washington|$1|\n",
    "|Thomas Jefferson|$2|\n",
    "|Abraham Lincoln|$5|\n",
    "|Alexander Hamilton|$10|\n",
    "|Andrew Jackson|$20|\n",
    "|Ulysses S. Grant|$50|\n",
    "|Benjamin Franklin|$100|\n",
    "\n",
    "Write a program that begins by reading the denomination of a banknote from the\n",
    "user. Then your program should display the name of the individual that appears on the\n",
    "banknote of the entered amount. An appropriate error message should be displayed\n",
    "if no such note exists.\n",
    "\n",
    "While two dollar banknotes are rarely seen in circulation in the United States,\n",
    "they are legal tender that can be spent just like any other denomination. The\n",
    "United States has also issued banknotes in denominations of $500, $1,000,\n",
    "$5,000, and $10,000 for public use. However, high denomination banknotes\n",
    "have not been printed since 1945 and were officially discontinued in 1969. As\n",
    "a result, we will not consider them in this exercise.\n",
    "\n",
    "\n",
    "\n",
    "\n"
   ]
  },
  {
   "cell_type": "code",
   "execution_count": null,
   "metadata": {},
   "outputs": [],
   "source": []
  }
 ],
 "metadata": {
  "language_info": {
   "name": "python"
  }
 },
 "nbformat": 4,
 "nbformat_minor": 2
}
