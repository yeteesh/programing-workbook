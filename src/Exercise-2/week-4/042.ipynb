{
 "cells": [
  {
   "cell_type": "code",
   "execution_count": null,
   "metadata": {},
   "outputs": [],
   "source": [
    "# Faces on Money"
   ]
  },
  {
   "cell_type": "markdown",
   "metadata": {},
   "source": [
    "It is common for images of a country’s previous leaders, or other individuals of his-\n",
    "torical significance, to appear on its money. The individuals that appear on banknotes\n",
    "in the United States are listed in below.\n",
    "\n",
    "|Individual|Amount|\n",
    "|---| ---|\n",
    "|George Washington|$1|\n",
    "|Thomas Jefferson|$2|\n",
    "|Abraham Lincoln|$5|\n",
    "|Alexander Hamilton|$10|\n",
    "|Andrew Jackson|$20|\n",
    "|Ulysses S. Grant|$50|\n",
    "|Benjamin Franklin|$100|\n",
    "\n",
    "Write a program that begins by reading the denomination of a banknote from the\n",
    "user. Then your program should display the name of the individual that appears on the\n",
    "banknote of the entered amount. An appropriate error message should be displayed\n",
    "if no such note exists.\n",
    "\n",
    "While two dollar banknotes are rarely seen in circulation in the United States,\n",
    "they are legal tender that can be spent just like any other denomination. The\n",
    "United States has also issued banknotes in denominations of $500, $1,000,\n",
    "$5,000, and $10,000 for public use. However, high denomination banknotes\n",
    "have not been printed since 1945 and were officially discontinued in 1969. As\n",
    "a result, we will not consider them in this exercise.\n",
    "\n",
    "\n",
    "\n",
    "\n"
   ]
  },
  {
   "cell_type": "code",
   "execution_count": 1,
   "metadata": {},
   "outputs": [
    {
     "name": "stdout",
     "output_type": "stream",
     "text": [
      "Enter the amount of banknote:\n",
      "Your banknote has Alexander Hamilton on it \n"
     ]
    }
   ],
   "source": [
    "print('Enter the amount of banknote:')\n",
    "b = int(input())\n",
    "if b == 1:\n",
    "    print('Your banknote has George Washington on it ')\n",
    "if b == 2:\n",
    "    print('Your banknote has Thomas Jefferson on it ')\n",
    "if b == 5:\n",
    "    print('Your banknote has Abraham Lincoln on it ')\n",
    "if b == 10:\n",
    "    print('Your banknote has Alexander Hamilton on it ')\n",
    "if b == 20:\n",
    "    print('Your banknote has Andrew Jackson on it ')\n",
    "if b == 50:\n",
    "    print('Your banknote has Ulysses S. Grant on it ')\n",
    "if b == 100:\n",
    "    print('Your banknote has Benjamin Franklin on it ')\n",
    "    "
   ]
  }
 ],
 "metadata": {
  "kernelspec": {
   "display_name": "Pywb",
   "language": "python",
   "name": "python3"
  },
  "language_info": {
   "codemirror_mode": {
    "name": "ipython",
    "version": 3
   },
   "file_extension": ".py",
   "mimetype": "text/x-python",
   "name": "python",
   "nbconvert_exporter": "python",
   "pygments_lexer": "ipython3",
   "version": "3.9.18"
  }
 },
 "nbformat": 4,
 "nbformat_minor": 2
}
