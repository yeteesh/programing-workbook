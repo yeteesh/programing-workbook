{
 "cells": [
  {
   "cell_type": "code",
   "execution_count": null,
   "metadata": {},
   "outputs": [],
   "source": [
    "# Chinese Zodiac"
   ]
  },
  {
   "cell_type": "markdown",
   "metadata": {},
   "source": [
    "The Chinese zodiac assigns animals to years in a 12 year cycle. One 12 year cycle is\n",
    "shown in the table below. The pattern repeats from there, with 2012 being another\n",
    "year of the dragon, and 1999 being another year of the hare.\n",
    "\n",
    "|Year|Animal|\n",
    "|---|---|\n",
    "|2000|Dragon|\n",
    "|2001|Snake|\n",
    "|2002|Horse|\n",
    "|2003|Sheep|\n",
    "|2004|Monkey|\n",
    "|2005|Rooster|\n",
    "|2006|Dog|\n",
    "|2007|Pig|\n",
    "|2008|Rat|\n",
    "|2009|Ox|\n",
    "|2010|Tiger|\n",
    "|2011|Hare|\n",
    "\n",
    "\n",
    "Write a program that reads a year from the user and displays the animal associated\n",
    "with that year. Your program should work correctly for any year greater than or equal\n",
    "to zero, not just the ones listed in the table."
   ]
  },
  {
   "cell_type": "code",
   "execution_count": null,
   "metadata": {},
   "outputs": [],
   "source": []
  }
 ],
 "metadata": {
  "language_info": {
   "name": "python"
  }
 },
 "nbformat": 4,
 "nbformat_minor": 2
}
