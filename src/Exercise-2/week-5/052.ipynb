{
 "cells": [
  {
   "cell_type": "code",
   "execution_count": null,
   "metadata": {},
   "outputs": [],
   "source": [
    "# Assessing Employees"
   ]
  },
  {
   "cell_type": "markdown",
   "metadata": {},
   "source": [
    "At a particular company, employees are rated at the end of each year. The rating scale\n",
    "begins at 0.0, with higher values indicating better performance and resulting in larger\n",
    "raises. The value awarded to an employee is either 0.0, 0.4, or 0.6 or more. Values\n",
    "between 0.0 and 0.4, and between 0.4 and 0.6 are never used. The meaning associated\n",
    "with each rating is shown in the following table. The amount of an employee’s raise\n",
    "is $2,400.00 multiplied by their rating.\n",
    "\n",
    "|Rating|Meaning|\n",
    "|---|---|\n",
    "|0.0|Unacceptable Performance|\n",
    "|0.4|Acceptable Performance|\n",
    "|0.6 or more|Meritorious Performance|\n",
    "\n",
    "Write a program that reads a rating from the user and indicates whether the per-\n",
    "formance for that rating is unacceptable, acceptable or meritorious. The amount\n",
    "of the employee’s raise should also be reported. Your program should display an\n",
    "appropriate error message if an invalid rating is entered.\n",
    "\n"
   ]
  },
  {
   "cell_type": "code",
   "execution_count": null,
   "metadata": {},
   "outputs": [],
   "source": []
  }
 ],
 "metadata": {
  "language_info": {
   "name": "python"
  }
 },
 "nbformat": 4,
 "nbformat_minor": 2
}
