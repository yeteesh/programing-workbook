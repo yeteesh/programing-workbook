{
 "cells": [
  {
   "cell_type": "code",
   "execution_count": null,
   "metadata": {},
   "outputs": [],
   "source": [
    "# Roots of a Quadratic Function"
   ]
  },
  {
   "cell_type": "markdown",
   "metadata": {},
   "source": [
    "A univariate quadratic function has the form $$f (x) = ax^2 + bx + c$$, where a, b and c\n",
    "are constants, and a is non-zero. Its roots can be identified by finding the values of x\n",
    "that satisfy the quadratic equation $$ax^2 + bx + c = 0$$. These values can be computed\n",
    "using the quadratic formula, shown below. A quadratic function may have 0, 1 or 2\n",
    "real roots.\n",
    "---\n",
    "$$\n",
    "root = \\frac{-b \\pm \\sqrt{b^2 - 4ac}}{2a}\n",
    "$$\n",
    "---\n",
    "\n",
    "The portion of the expression under the square root sign is called the discriminant.\n",
    "If the discriminant is negative then the quadratic equation does not have any real\n",
    "roots. If the discriminant is 0, then the equation has one real root. Otherwise the\n",
    "equation has two real roots, and the expression must be evaluated twice, once using\n",
    "a plus sign, and once using a minus sign, when computing the numerator.\n",
    "\n",
    "Write a program that computes the real roots of a quadratic function. Your pro-\n",
    "gram should begin by prompting the user for the values of a, b and c. Then it should\n",
    "display a message indicating the number of real roots, along with the values of the\n",
    "real roots (if any)."
   ]
  },
  {
   "cell_type": "code",
   "execution_count": null,
   "metadata": {},
   "outputs": [],
   "source": []
  }
 ],
 "metadata": {
  "language_info": {
   "name": "python"
  }
 },
 "nbformat": 4,
 "nbformat_minor": 2
}
