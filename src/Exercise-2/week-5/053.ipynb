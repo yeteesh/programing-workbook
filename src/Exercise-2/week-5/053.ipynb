{
 "cells": [
  {
   "cell_type": "code",
   "execution_count": null,
   "metadata": {},
   "outputs": [],
   "source": [
    "# Wavelengths of Visible Light"
   ]
  },
  {
   "cell_type": "markdown",
   "metadata": {},
   "source": [
    "The wavelength of visible light ranges from 380 to 750 nanometers (nm). While the\n",
    "spectrum is continuous, it is often divided into 6 colors as shown below:\n",
    "\n",
    "|Color|Wavelength (nm)|\n",
    "|---|---|\n",
    "|Violet|380 to less than 450|\n",
    "|Blue|450 to less than 495|\n",
    "|Green|495 to less than 570|\n",
    "|Yellow|570 to less than 590|\n",
    "|Orange|590 to less than 620|\n",
    "|Red|620 to 750|\n",
    "\n",
    "\n",
    "Write a program that reads a wavelength from the user and reports its color. Display\n",
    "an appropriate error message if the wavelength entered by the user is outside of the\n",
    "visible spectrum.\n",
    "\n"
   ]
  },
  {
   "cell_type": "code",
   "execution_count": null,
   "metadata": {},
   "outputs": [],
   "source": []
  }
 ],
 "metadata": {
  "language_info": {
   "name": "python"
  }
 },
 "nbformat": 4,
 "nbformat_minor": 2
}
