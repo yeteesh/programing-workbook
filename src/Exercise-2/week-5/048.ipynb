{
 "cells": [
  {
   "cell_type": "code",
   "execution_count": null,
   "metadata": {},
   "outputs": [],
   "source": [
    "# Richter Scale"
   ]
  },
  {
   "cell_type": "markdown",
   "metadata": {},
   "source": [
    "The following table contains earthquake magnitude ranges on the Richter scale and\n",
    "their descriptors:\n",
    "\n",
    "|Magnitude|Descriptor|\n",
    "|---|---|\n",
    "|Less than 2.0|Micro|\n",
    "|2.0 to less than 3.0|Very Minor|\n",
    "|3.0 to less than 4.0|Minor|\n",
    "|4.0 to less than 5.0|Light|\n",
    "|5.0 to less than 6.0|Moderate|\n",
    "|6.0 to less than 7.0|Strong|\n",
    "|7.0 to less than 8.0|Major|\n",
    "|8.0 to less than 10.0|Great|\n",
    "|10.0 or more|Meteoric|\n",
    "\n",
    "Write a program that reads a magnitude from the user and displays the appropriate\n",
    "descriptor as part of a meaningful message. For example, if the user enters 5.5 then your program should indicate that a magnitude 5.5 earthquake is considered to be a\n",
    "moderate earthquake.\n",
    "\n",
    "\n",
    "\n",
    "\n",
    "\n"
   ]
  },
  {
   "cell_type": "code",
   "execution_count": null,
   "metadata": {},
   "outputs": [],
   "source": []
  }
 ],
 "metadata": {
  "language_info": {
   "name": "python"
  }
 },
 "nbformat": 4,
 "nbformat_minor": 2
}
