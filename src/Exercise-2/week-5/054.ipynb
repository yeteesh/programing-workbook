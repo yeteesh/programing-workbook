{
 "cells": [
  {
   "cell_type": "code",
   "execution_count": null,
   "metadata": {},
   "outputs": [],
   "source": [
    "# Frequency to Name"
   ]
  },
  {
   "cell_type": "markdown",
   "metadata": {},
   "source": [
    "Electromagnetic radiation can be classified into one of 7 categories according to its\n",
    "frequency, as shown in the table below:\n",
    "\n",
    "|Name|Frequency Range (Hz)|\n",
    "|---|---|\n",
    "|Radio Waves|Less than 3 × 10^9|\n",
    "|Microwaves|3 × 10^9 to less than 3 × 10^12|\n",
    "|Infrared Light|3 × 10^12 to less than 4.3 × 10^14|\n",
    "|Visible Light|4.3 × 10^14 to less than 7.5 × 10^14|\n",
    "|Ultraviolet Light|7.5 × 10^14 to less than 3 × 10^17|\n",
    "|X-Rays|3 × 10^17 to less than 3 × 10^19|\n",
    "|Gamma Rays|3 × 10^19 or more|\n",
    "\n",
    "Write a program that reads the frequency of some radiation from the user and\n",
    "displays name of the radiation as part of an appropriate message.\n",
    "\n",
    "\n",
    "\n"
   ]
  },
  {
   "cell_type": "code",
   "execution_count": null,
   "metadata": {},
   "outputs": [],
   "source": []
  }
 ],
 "metadata": {
  "language_info": {
   "name": "python"
  }
 },
 "nbformat": 4,
 "nbformat_minor": 2
}
