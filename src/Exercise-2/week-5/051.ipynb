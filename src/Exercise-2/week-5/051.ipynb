{
 "cells": [
  {
   "cell_type": "code",
   "execution_count": null,
   "metadata": {},
   "outputs": [],
   "source": [
    "# Grade Points to Letter Grade"
   ]
  },
  {
   "cell_type": "markdown",
   "metadata": {},
   "source": [
    "In the previous exercise you created a program that converted a letter grade into the\n",
    "equivalent number of grade points. In this exercise you will create a program that\n",
    "reverses the process and converts from a grade point value entered by the user to a\n",
    "letter grade. Ensure that your program handles grade point values that fall between\n",
    "letter grades. These should be rounded to the closest letter grade. Your program\n",
    "should report A+ if the value entered by the user is 4.0 or more."
   ]
  },
  {
   "cell_type": "code",
   "execution_count": null,
   "metadata": {},
   "outputs": [],
   "source": []
  }
 ],
 "metadata": {
  "language_info": {
   "name": "python"
  }
 },
 "nbformat": 4,
 "nbformat_minor": 2
}
