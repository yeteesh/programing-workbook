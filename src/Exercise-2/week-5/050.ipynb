{
 "cells": [
  {
   "cell_type": "code",
   "execution_count": null,
   "metadata": {},
   "outputs": [],
   "source": [
    "# Letter Grade to Grade Points"
   ]
  },
  {
   "cell_type": "markdown",
   "metadata": {},
   "source": [
    "At a particular university, letter grades are mapped to grade points in the following\n",
    "manner:\n",
    "\n",
    "|Letter|Grade Points|\n",
    "| ---| ----|\n",
    "|A+|4.0|\n",
    "|A|4.0|\n",
    "|A-|3.7|\n",
    "|B+|3.3|\n",
    "|B|3.0|\n",
    "|B-|2.7|\n",
    "|C+|2.3|\n",
    "|C|2.0|\n",
    "|C-|1.7|\n",
    "|D+|1.3|\n",
    "|D|1.0|\n",
    "|F|0|\n",
    "\n",
    "Write a program that begins by reading a letter grade from the user. Then your\n",
    "program should compute and display the equivalent number of grade points. Ensure\n",
    "that your program generates an appropriate error message if the user enters an invalid\n",
    "letter grade.\n",
    "\n",
    "\n",
    "\n",
    "\n",
    "\n",
    "\n",
    "\n",
    "\n",
    "\n",
    "\n"
   ]
  },
  {
   "cell_type": "code",
   "execution_count": null,
   "metadata": {},
   "outputs": [],
   "source": []
  }
 ],
 "metadata": {
  "language_info": {
   "name": "python"
  }
 },
 "nbformat": 4,
 "nbformat_minor": 2
}
