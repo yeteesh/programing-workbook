{
 "cells": [
  {
   "cell_type": "code",
   "execution_count": null,
   "metadata": {},
   "outputs": [],
   "source": [
    "# Approximate π"
   ]
  },
  {
   "cell_type": "markdown",
   "metadata": {},
   "source": [
    "The value of π can be approximated by the following infinite series:\n",
    "\n",
    "$$\n",
    "π ≈3+ 4/2X3X4 - 4/4X5X6 + 4/6X7X8 - 4/8 X 9 X 10 + 4 / 10 X 11 X 12\n",
    "\n",
    "$$\n",
    "Write a program that displays 15 approximations of π . The first approxima\n",
    "\n",
    "Write a program that displays 15 approximations of π . The first approxima-\n",
    "tion should make use of only the first term from the infinite series. Each additional\n",
    "approximation displayed by your program should include one more term in the series,\n",
    "making it a better approximation of π than any of the approximations displayed pre-\n",
    "viously."
   ]
  },
  {
   "cell_type": "code",
   "execution_count": null,
   "metadata": {},
   "outputs": [],
   "source": []
  }
 ],
 "metadata": {
  "language_info": {
   "name": "python"
  }
 },
 "nbformat": 4,
 "nbformat_minor": 2
}
